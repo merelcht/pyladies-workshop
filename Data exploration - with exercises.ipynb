{
 "cells": [
  {
   "cell_type": "markdown",
   "id": "213cb09a-0774-4efa-863c-90ba37b87700",
   "metadata": {},
   "source": [
    "# The datasets\n",
    "\n",
    "## Women in STEM (Kaggle)\n",
    "\n",
    "This dataset explores the representation of women in STEM education globally over two decades. It includes data on female enrollment, graduation rates, and fields of study within STEM.\n",
    "Columns: Country, Year, Female Enrollment (%), Female Graduation Rate (%), STEM Fields (e.g., Engineering, Computer Science), Gender Gap Index.\n",
    "\n",
    "Source: https://www.kaggle.com/datasets/bismasajjad/womens-representation-in-global-stem-education\n",
    "\n",
    "## Women graduating from STEM programs (Our World In Data)\n",
    "\n",
    "Female share of graduates in the given field of education, tertiary is the number of female graduates expressed as a percentage of the total number of graduates in the given field of education from tertiary education.\n",
    "\n",
    "\n",
    "Source: https://ourworldindata.org/grapher/share-graduates-stem-female"
   ]
  },
  {
   "cell_type": "markdown",
   "id": "0521d168-2990-446e-8080-4cb677a6938f",
   "metadata": {},
   "source": [
    "# Load datasets using pandas"
   ]
  },
  {
   "cell_type": "code",
   "execution_count": null,
   "id": "17f302b6-5f5b-4c68-ba32-0e1bd49973df",
   "metadata": {},
   "outputs": [],
   "source": [
    "import pandas as pd\n",
    "\n",
    "kaggle_data = pd.read_csv(\"/Users/mereltheisen/Downloads/women_in_stem.csv\")\n",
    "kaggle_data.head()"
   ]
  },
  {
   "cell_type": "code",
   "execution_count": null,
   "id": "73493768-801e-4a01-8ebf-3ea6f2424284",
   "metadata": {},
   "outputs": [],
   "source": [
    "# Let's look at just one country\n",
    "china_data = kaggle_data[kaggle_data[\"Country\"] == \"China\"]\n",
    "china_engineering = china_data[china_data[\"STEM Fields\"] == \"Engineering\"]"
   ]
  },
  {
   "cell_type": "markdown",
   "id": "4ed69cf9-5fc1-47b4-9940-e4f4bcebfb71",
   "metadata": {},
   "source": [
    "# Create visualisations using plotly\n",
    "\n",
    "## What is Plotly?\n",
    "Plotly is a Python (and JavaScript) graphing library that enables the creation of interactive, publication-quality charts and dashboards, supporting a wide variety of chart types like scatter plots, bar charts, 3D graphs, and maps. It's commonly used in data science and analytics for visual exploration and presentation, with support for integration in Jupyter notebooks, web apps, and dashboards.\n",
    "\n",
    "**Helpful links:**\n",
    "- 📚 [Plotly Python Docs](https://plotly.com/python/)\n",
    "- 🚀 [Dash (Plotly’s Web App Framework)](https://dash.plotly.com/)\n",
    "- 🧑‍💻 [Plotly GitHub Repository](https://github.com/plotly/plotly.py)"
   ]
  },
  {
   "cell_type": "code",
   "execution_count": null,
   "id": "1d6c5fe1-554d-4f0b-a23b-7272244654e5",
   "metadata": {},
   "outputs": [],
   "source": [
    "import plotly.express as px"
   ]
  },
  {
   "cell_type": "code",
   "execution_count": null,
   "id": "2af1f631-c98e-4f80-ac40-dff0bd56336d",
   "metadata": {},
   "outputs": [],
   "source": [
    "print(china_engineering[china_engineering[\"Year\"]==2017])"
   ]
  },
  {
   "cell_type": "code",
   "execution_count": null,
   "id": "848d6dfa-8d83-4e84-b58c-b7f58c7fd75a",
   "metadata": {},
   "outputs": [],
   "source": [
    "china_agg = (\n",
    "    kaggle_data[kaggle_data[\"Country\"] == \"China\"]\n",
    "    .groupby([\"STEM Fields\", \"Year\"], as_index=False)\n",
    "    .agg({\"Female Graduation Rate (%)\": \"mean\"})\n",
    ")"
   ]
  },
  {
   "cell_type": "code",
   "execution_count": null,
   "id": "a64bf465-0c03-45d5-938d-878df9ca2c22",
   "metadata": {},
   "outputs": [],
   "source": [
    "# Create the line chart\n",
    "fig = px.line(\n",
    "    china_agg,\n",
    "    x=\"Year\",\n",
    "    y=\"Female Graduation Rate (%)\",\n",
    "    color=\"STEM Fields\",\n",
    "    markers=True,\n",
    "    title=f\"Female Graduation Rate in STEM Fields Over Time (China)\"\n",
    ")\n",
    "fig.show()"
   ]
  },
  {
   "cell_type": "code",
   "execution_count": null,
   "id": "c6e2e9a1-6795-48cb-a8cd-882c19cb38ad",
   "metadata": {},
   "outputs": [],
   "source": [
    "engineering = kaggle_data[kaggle_data[\"STEM Fields\"] == \"Engineering\"]\n",
    "engineering.head()"
   ]
  },
  {
   "cell_type": "code",
   "execution_count": null,
   "id": "2fdc2cab-ed2f-4580-be4c-81b4d5b9b488",
   "metadata": {},
   "outputs": [],
   "source": [
    "engineering_agg = (\n",
    "    engineering\n",
    "    .groupby([\"Country\", \"Year\"], as_index=False)\n",
    "    .agg({\"Female Graduation Rate (%)\": \"mean\"})\n",
    ")\n"
   ]
  },
  {
   "cell_type": "code",
   "execution_count": null,
   "id": "c7e9ff63-8cdc-419c-9c1f-052ef6a42abc",
   "metadata": {},
   "outputs": [],
   "source": [
    "import plotly.express as px\n",
    "\n",
    "fig = px.line(\n",
    "    engineering_agg,\n",
    "    x=\"Year\",\n",
    "    y=\"Female Graduation Rate (%)\",\n",
    "    color=\"Country\",\n",
    "    markers=True,\n",
    "    title=\"Female Graduation Rate in Engineering Over Time (Multiple Countries)\"\n",
    ")\n",
    "\n",
    "fig.update_layout(yaxis_title=\"Graduation Rate (%)\", xaxis_title=\"Year\")\n",
    "fig.show()\n"
   ]
  },
  {
   "cell_type": "markdown",
   "id": "5c56d74f-9d76-4f4d-8807-eb45e8c6f899",
   "metadata": {},
   "source": [
    "## A more advanced dataset\n"
   ]
  },
  {
   "cell_type": "code",
   "execution_count": null,
   "id": "c0e9377a-3cab-408a-962b-8a97c940a46f",
   "metadata": {},
   "outputs": [],
   "source": [
    "gender_stats = pd.read_csv(\"/Users/mereltheisen/Downloads/P_Data_Extract_From_Gender_Statistics/065bc21d-9ad2-4004-b442-31f67904e33b_Data.csv\", na_values=[\"NA\", \"..\"])"
   ]
  },
  {
   "cell_type": "code",
   "execution_count": null,
   "id": "8a1eed12-c897-44af-b7d3-961634d6f80a",
   "metadata": {},
   "outputs": [],
   "source": [
    "# Create bar chart\n",
    "fig = px.bar(gender_stats, x=\"Country Name\", y=\"2017 [YR2017]\", title=\"Women in STEM 2017\")\n",
    "fig.show()\n"
   ]
  },
  {
   "cell_type": "code",
   "execution_count": null,
   "id": "abb4848b-5993-4c23-ab73-fefb6ebf567d",
   "metadata": {},
   "outputs": [],
   "source": [
    "# Assuming 'df' is your original DataFrame\n",
    "country = \"Netherlands\"  # Change this to the country you want to plot\n",
    "\n",
    "# Filter the DataFrame for the specific country\n",
    "df_filtered = gender_stats[gender_stats[\"Country Name\"] == country]\n",
    "\n",
    "# Melt the DataFrame to convert wide format to long format\n",
    "df_long = df_filtered.melt(\n",
    "    id_vars=[\"Country Name\"], \n",
    "    value_vars=[col for col in gender_stats.columns if \"YR\" in col], \n",
    "    var_name=\"Year\", \n",
    "    value_name=\"Value\"\n",
    ")\n",
    "\n",
    "# Clean the 'Year' column (extract just the year number)\n",
    "df_long[\"Year\"] = df_long[\"Year\"].str.extract(r\"(\\d{4})\").astype(int)\n",
    "\n",
    "fig = px.bar(df_long, x=\"Year\", y=\"Value\", title=f\"Trends for {country}\")\n",
    "fig.show()"
   ]
  },
  {
   "cell_type": "code",
   "execution_count": null,
   "id": "549d9d33-3b0b-47b2-889d-2bde0aef3fcc",
   "metadata": {},
   "outputs": [],
   "source": []
  },
  {
   "cell_type": "markdown",
   "id": "14e0a8c6",
   "metadata": {},
   "source": [
    "### 🧠 Exercise 1: Line Plot of Female Enrollment Over Time\n",
    "\n",
    "Create a line plot using Plotly to show how **Female Enrollment (%)** has changed over the years for a specific country (e.g., 'Canada')."
   ]
  },
  {
   "cell_type": "code",
   "execution_count": null,
   "id": "541f06e4",
   "metadata": {},
   "outputs": [],
   "source": [
    "# ✅ Solution\n",
    "import plotly.express as px\n",
    "df_canada = df[df['Country'] == 'Canada']\n",
    "fig = px.line(df_canada, x='Year', y='Female Enrollment (%)', title='Female Enrollment Over Time in Canada')\n",
    "fig.show()"
   ]
  },
  {
   "cell_type": "markdown",
   "id": "559a462e",
   "metadata": {},
   "source": [
    "### 🧠 Exercise 2: Compare STEM Fields Participation\n",
    "\n",
    "Create a bar chart comparing the number of **STEM Fields** across different countries for the most recent year in the dataset."
   ]
  },
  {
   "cell_type": "code",
   "execution_count": null,
   "id": "88736698",
   "metadata": {},
   "outputs": [],
   "source": [
    "# ✅ Solution\n",
    "latest_year = df['Year'].max()\n",
    "df_latest = df[df['Year'] == latest_year]\n",
    "fig = px.bar(df_latest, x='Country', y='STEM Fields', title=f'STEM Fields Participation in {latest_year}')\n",
    "fig.show()"
   ]
  },
  {
   "cell_type": "markdown",
   "id": "69d44fc6",
   "metadata": {},
   "source": [
    "### 🧠 Exercise 3: Explore Relationship Between Enrollment and Graduation\n",
    "\n",
    "Create a scatter plot to explore the relationship between **Female Enrollment (%)** and **Female Graduation Rate (%)** across all countries for a given year."
   ]
  },
  {
   "cell_type": "code",
   "execution_count": null,
   "id": "e7ec8321",
   "metadata": {},
   "outputs": [],
   "source": [
    "# ✅ Solution\n",
    "selected_year = 2020  # change this if needed\n",
    "df_year = df[df['Year'] == selected_year]\n",
    "fig = px.scatter(df_year, x='Female Enrollment (%)', y='Female Graduation Rate (%)', color='Country',\n",
    "                 title=f'Enrollment vs Graduation Rate ({selected_year})')\n",
    "fig.show()"
   ]
  },
  {
   "cell_type": "markdown",
   "id": "464ab6f3",
   "metadata": {},
   "source": [
    "### 🧠 Exercise 4: Animated Plot of Gender Gap Index\n",
    "\n",
    "Use Plotly to create an animated scatter plot that shows the **Gender Gap Index** over time for each country."
   ]
  },
  {
   "cell_type": "code",
   "execution_count": null,
   "id": "250be95f",
   "metadata": {},
   "outputs": [],
   "source": [
    "# ✅ Solution\n",
    "fig = px.scatter(df, x='Year', y='Gender Gap Index', animation_frame='Year', animation_group='Country',\n",
    "                 color='Country', size='Gender Gap Index',\n",
    "                 title='Gender Gap Index Over Time')\n",
    "fig.show()"
   ]
  },
  {
   "cell_type": "markdown",
   "id": "344940c9",
   "metadata": {},
   "source": [
    "### 🌟 Bonus Challenge: Your Own Plot\n",
    "\n",
    "Choose any two variables from the dataset and create your own custom visualization using Plotly.\n",
    "\n",
    "You can use bar, line, scatter, pie, or any other type of plot!"
   ]
  },
  {
   "cell_type": "code",
   "execution_count": null,
   "id": "c6e48deb",
   "metadata": {},
   "outputs": [],
   "source": [
    "# ✅ Example (customize this!)\n",
    "# fig = px.scatter(df, x='Female Enrollment (%)', y='STEM Fields', color='Country')\n",
    "# fig.show()"
   ]
  },
  {
   "cell_type": "markdown",
   "id": "3489377d",
   "metadata": {},
   "source": [
    "### 🧠 Exercise 1: Line Plot of Female Enrollment Over Time\n",
    "\n",
    "Create a line plot using Plotly to show how **Female Enrollment (%)** has changed over the years for a specific country (e.g., 'Canada')."
   ]
  },
  {
   "cell_type": "code",
   "execution_count": null,
   "id": "7c26ad84",
   "metadata": {},
   "outputs": [],
   "source": [
    "# ✅ Solution\n",
    "import plotly.express as px\n",
    "df_canada = df[df['Country'] == 'Canada']\n",
    "fig = px.line(df_canada, x='Year', y='Female Enrollment (%)', title='Female Enrollment Over Time in Canada')\n",
    "fig.show()"
   ]
  },
  {
   "cell_type": "markdown",
   "id": "449e82aa",
   "metadata": {},
   "source": [
    "### 🧠 Exercise 2: Compare STEM Fields Participation\n",
    "\n",
    "Create a bar chart comparing the number of **STEM Fields** across different countries for the most recent year in the dataset."
   ]
  },
  {
   "cell_type": "code",
   "execution_count": null,
   "id": "8b2ae757",
   "metadata": {},
   "outputs": [],
   "source": [
    "# ✅ Solution\n",
    "latest_year = df['Year'].max()\n",
    "df_latest = df[df['Year'] == latest_year]\n",
    "fig = px.bar(df_latest, x='Country', y='STEM Fields', title=f'STEM Fields Participation in {latest_year}')\n",
    "fig.show()"
   ]
  },
  {
   "cell_type": "markdown",
   "id": "4218618a",
   "metadata": {},
   "source": [
    "### 🧠 Exercise 3: Explore Relationship Between Enrollment and Graduation\n",
    "\n",
    "Create a scatter plot to explore the relationship between **Female Enrollment (%)** and **Female Graduation Rate (%)** across all countries for a given year."
   ]
  },
  {
   "cell_type": "code",
   "execution_count": null,
   "id": "2cb696b7",
   "metadata": {},
   "outputs": [],
   "source": [
    "# ✅ Solution\n",
    "selected_year = 2020  # change this if needed\n",
    "df_year = df[df['Year'] == selected_year]\n",
    "fig = px.scatter(df_year, x='Female Enrollment (%)', y='Female Graduation Rate (%)', color='Country',\n",
    "                 title=f'Enrollment vs Graduation Rate ({selected_year})')\n",
    "fig.show()"
   ]
  },
  {
   "cell_type": "markdown",
   "id": "7f845830",
   "metadata": {},
   "source": [
    "### 🧠 Exercise 4: Animated Plot of Gender Gap Index\n",
    "\n",
    "Use Plotly to create an animated scatter plot that shows the **Gender Gap Index** over time for each country."
   ]
  },
  {
   "cell_type": "code",
   "execution_count": null,
   "id": "8e7bc8ca",
   "metadata": {},
   "outputs": [],
   "source": [
    "# ✅ Solution\n",
    "fig = px.scatter(df, x='Year', y='Gender Gap Index', animation_frame='Year', animation_group='Country',\n",
    "                 color='Country', size='Gender Gap Index',\n",
    "                 title='Gender Gap Index Over Time')\n",
    "fig.show()"
   ]
  },
  {
   "cell_type": "markdown",
   "id": "39a8886d",
   "metadata": {},
   "source": [
    "### 🌟 Bonus Challenge: Your Own Plot\n",
    "\n",
    "Choose any two variables from the dataset and create your own custom visualization using Plotly.\n",
    "\n",
    "You can use bar, line, scatter, pie, or any other type of plot!"
   ]
  },
  {
   "cell_type": "code",
   "execution_count": null,
   "id": "3bdaa9ac",
   "metadata": {},
   "outputs": [],
   "source": [
    "# ✅ Example (customize this!)\n",
    "# fig = px.scatter(df, x='Female Enrollment (%)', y='STEM Fields', color='Country')\n",
    "# fig.show()"
   ]
  }
 ],
 "metadata": {
  "kernelspec": {
   "display_name": "Python 3 (ipykernel)",
   "language": "python",
   "name": "python3"
  },
  "language_info": {
   "codemirror_mode": {
    "name": "ipython",
    "version": 3
   },
   "file_extension": ".py",
   "mimetype": "text/x-python",
   "name": "python",
   "nbconvert_exporter": "python",
   "pygments_lexer": "ipython3",
   "version": "3.11.5"
  }
 },
 "nbformat": 4,
 "nbformat_minor": 5
}
