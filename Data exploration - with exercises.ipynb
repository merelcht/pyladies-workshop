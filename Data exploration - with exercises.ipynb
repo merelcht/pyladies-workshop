{
 "cells": [
  {
   "cell_type": "markdown",
   "id": "213cb09a-0774-4efa-863c-90ba37b87700",
   "metadata": {},
   "source": [
    "# The datasets\n",
    "\n",
    "## Women in STEM (Kaggle)\n",
    "\n",
    "This dataset explores the representation of women in STEM education globally over two decades. It includes data on female enrollment, graduation rates, and fields of study within STEM.\n",
    "Columns: Country, Year, Female Enrollment (%), Female Graduation Rate (%), STEM Fields (e.g., Engineering, Computer Science), Gender Gap Index.\n",
    "\n",
    "Source: https://www.kaggle.com/datasets/bismasajjad/womens-representation-in-global-stem-education\n",
    "\n",
    "## Women graduating from STEM programs (Our World In Data)\n",
    "\n",
    "Female share of graduates in the given field of education, tertiary is the number of female graduates expressed as a percentage of the total number of graduates in the given field of education from tertiary education.\n",
    "\n",
    "\n",
    "Source: https://ourworldindata.org/grapher/share-graduates-stem-female"
   ]
  },
  {
   "cell_type": "markdown",
   "id": "0521d168-2990-446e-8080-4cb677a6938f",
   "metadata": {},
   "source": [
    "# Load datasets using pandas"
   ]
  },
  {
   "cell_type": "code",
   "execution_count": null,
   "id": "17f302b6-5f5b-4c68-ba32-0e1bd49973df",
   "metadata": {},
   "outputs": [],
   "source": [
    "import pandas as pd\n",
    "\n",
    "kaggle_data = pd.read_csv(\"/Users/mereltheisen/Downloads/women_in_stem.csv\")\n",
    "kaggle_data.head()"
   ]
  },
  {
   "cell_type": "code",
   "execution_count": null,
   "id": "73493768-801e-4a01-8ebf-3ea6f2424284",
   "metadata": {},
   "outputs": [],
   "source": [
    "# Let's look at just one country, for example China\n",
    "china_data = kaggle_data[kaggle_data[\"Country\"] == \"China\"]\n",
    "china_data.head()"
   ]
  },
  {
   "cell_type": "code",
   "execution_count": null,
   "id": "6a1de7ae-638a-480e-ad74-38d435d58339",
   "metadata": {},
   "outputs": [],
   "source": [
    "# Let's filter it down to only data for Engineering students in China\n",
    "china_engineering = china_data[china_data[\"STEM Fields\"] == \"Engineering\"]\n",
    "# print(china_engineering)"
   ]
  },
  {
   "cell_type": "markdown",
   "id": "4ed69cf9-5fc1-47b4-9940-e4f4bcebfb71",
   "metadata": {},
   "source": [
    "# Create visualisations using plotly\n",
    "\n",
    "## What is Plotly?\n",
    "Plotly is a Python (and JavaScript) graphing library that enables the creation of interactive, publication-quality charts and dashboards, supporting a wide variety of chart types like scatter plots, bar charts, 3D graphs, and maps. It's commonly used in data science and analytics for visual exploration and presentation, with support for integration in Jupyter notebooks, web apps, and dashboards.\n",
    "\n",
    "**Helpful links:**\n",
    "- 📚 [Plotly Python Docs](https://plotly.com/python/)\n",
    "- 🚀 [Dash (Plotly’s Web App Framework)](https://dash.plotly.com/)\n",
    "- 🧑‍💻 [Plotly GitHub Repository](https://github.com/plotly/plotly.py)"
   ]
  },
  {
   "cell_type": "code",
   "execution_count": null,
   "id": "1d6c5fe1-554d-4f0b-a23b-7272244654e5",
   "metadata": {},
   "outputs": [],
   "source": [
    "import plotly.express as px"
   ]
  },
  {
   "cell_type": "code",
   "execution_count": null,
   "id": "08d35564-7e16-4d3d-9432-d7dbc452f622",
   "metadata": {},
   "outputs": [],
   "source": [
    "# Suppose we'd like to create a bar chart showing the number of Female Graduates for Engineering in China. \n",
    "# Can we use the data as is?\n",
    "# Let's try!\n",
    "\n",
    "fig = px.bar(\n",
    "    china_engineering,\n",
    "    x=\"Year\",\n",
    "    y=\"Female Graduation Rate (%)\",\n",
    "    title=\"Female Graduation Rate by Year\",\n",
    "    text=\"Female Graduation Rate (%)\"  # show values on bars\n",
    ")\n",
    "fig.show()"
   ]
  },
  {
   "cell_type": "code",
   "execution_count": null,
   "id": "2af1f631-c98e-4f80-ac40-dff0bd56336d",
   "metadata": {},
   "outputs": [],
   "source": [
    "# Hmmm... how this looks a bit odd... it looks like we have multiple values for the same year.\n",
    "# Let's double check. Do we have multiple entries for 2005?\n",
    "print(china_engineering[china_engineering[\"Year\"]==2005])"
   ]
  },
  {
   "cell_type": "code",
   "execution_count": null,
   "id": "848d6dfa-8d83-4e84-b58c-b7f58c7fd75a",
   "metadata": {},
   "outputs": [],
   "source": [
    "# In order to get rid of this duplication, let's group the stem fields per year and aggregate the female graduation rate.\n",
    "china_agg = (\n",
    "    kaggle_data[kaggle_data[\"Country\"] == \"China\"]\n",
    "    .groupby([\"STEM Fields\", \"Year\"], as_index=False)\n",
    "    .agg({\"Female Graduation Rate (%)\": \"mean\"})\n",
    ")"
   ]
  },
  {
   "cell_type": "code",
   "execution_count": null,
   "id": "63730bf5-fc70-4fd3-9c65-765878c7e62e",
   "metadata": {},
   "outputs": [],
   "source": [
    "china_engineering = china_agg[china_agg[\"STEM Fields\"] == \"Engineering\"]\n",
    "fig = px.bar(\n",
    "    china_engineering,\n",
    "    x=\"Year\",\n",
    "    y=\"Female Graduation Rate (%)\",\n",
    "    title=\"Female Graduation Rate by Year\",\n",
    "    text=\"Female Graduation Rate (%)\"  # show values on bars\n",
    ")\n",
    "fig.show()"
   ]
  },
  {
   "cell_type": "code",
   "execution_count": null,
   "id": "a64bf465-0c03-45d5-938d-878df9ca2c22",
   "metadata": {},
   "outputs": [],
   "source": [
    "# We can also create a line chart and show the graduation rates for all stem fields:\n",
    "fig = px.line(\n",
    "    china_agg,\n",
    "    x=\"Year\",\n",
    "    y=\"Female Graduation Rate (%)\",\n",
    "    color=\"STEM Fields\",\n",
    "    markers=True,\n",
    "    title=f\"Female Graduation Rate in STEM Fields Over Time (China)\"\n",
    ")\n",
    "fig.show()"
   ]
  },
  {
   "cell_type": "code",
   "execution_count": null,
   "id": "c6e2e9a1-6795-48cb-a8cd-882c19cb38ad",
   "metadata": {},
   "outputs": [],
   "source": [
    "# Now let's create some more plots that show graduation rates for engineering in multiple countries:\n",
    "engineering = kaggle_data[kaggle_data[\"STEM Fields\"] == \"Engineering\"]\n",
    "\n",
    "engineering_agg = (\n",
    "    engineering\n",
    "    .groupby([\"Country\", \"Year\"], as_index=False)\n",
    "    .agg({\"Female Graduation Rate (%)\": \"mean\"})\n",
    ")\n",
    "\n",
    "import plotly.express as px\n",
    "\n",
    "fig = px.line(\n",
    "    engineering_agg,\n",
    "    x=\"Year\",\n",
    "    y=\"Female Graduation Rate (%)\",\n",
    "    color=\"Country\",\n",
    "    markers=True,\n",
    "    title=\"Female Graduation Rate in Engineering Over Time (Multiple Countries)\"\n",
    ")\n",
    "\n",
    "fig.update_layout(yaxis_title=\"Graduation Rate (%)\", xaxis_title=\"Year\")\n",
    "fig.show()\n"
   ]
  },
  {
   "cell_type": "markdown",
   "id": "5c56d74f-9d76-4f4d-8807-eb45e8c6f899",
   "metadata": {},
   "source": [
    "## A more advanced dataset\n"
   ]
  },
  {
   "cell_type": "code",
   "execution_count": null,
   "id": "73c4789a-0eeb-4d90-b27b-287ce645e200",
   "metadata": {},
   "outputs": [],
   "source": [
    "gender_stats = pd.read_csv(\"/Users/mereltheisen/Downloads/P_Data_Extract_From_Gender_Statistics/065bc21d-9ad2-4004-b442-31f67904e33b_Data.csv\", na_values=[\"NA\", \"..\"])"
   ]
  },
  {
   "cell_type": "markdown",
   "id": "28c93b56-99c6-4e51-bb99-a94014502504",
   "metadata": {},
   "source": [
    "### 🔍 Here's what happens step-by-step:\n",
    "\n",
    "1. **`pd.read_csv(...)`**  \n",
    "   Loads the CSV file located at the provided path into a DataFrame called `gender_stats`.\n",
    "\n",
    "2. **`na_values=[\"NA\", \"..\"]`**  \n",
    "   Specifies **additional strings to be treated as missing values** (`NaN`) besides the default ones.  \n",
    "   In this case:\n",
    "   - Any cell with `\"NA\"` or `\"..\"` will be converted to `NaN`.\n",
    "\n",
    "---\n",
    "\n",
    "### 🧠 Why this is useful:\n",
    "Many real-world datasets (especially those from organizations like the UN or World Bank) use various codes to represent missing data. Using `na_values`, you ensure:\n",
    "- You can work with true `NaN` values\n",
    "- You avoid errors or unexpected behavior in numerical operations or plots\n",
    "\n",
    "---\n",
    "\n",
    "Let me know if you want to check for missing values next (`gender_stats.isna().sum()`) or clean them up!\n",
    "\n",
    "gender_stats = pd.read_csv(\"/Users/mereltheisen/Downloads/P_Data_Extract_From_Gender_Statistics/065bc21d-9ad2-4004-b442-31f67904e33b_Data.csv\", na_values=[\"NA\", \"..\"])"
   ]
  },
  {
   "cell_type": "code",
   "execution_count": null,
   "id": "1f3063c9-49cf-4523-abcf-42ab69b091ab",
   "metadata": {},
   "outputs": [],
   "source": [
    "# Let's explore the data a bit\n",
    "gender_stats.head()"
   ]
  },
  {
   "cell_type": "code",
   "execution_count": null,
   "id": "8a1eed12-c897-44af-b7d3-961634d6f80a",
   "metadata": {},
   "outputs": [],
   "source": [
    "# There's a lot more data in this dataset, but also many NaN values. Let's try create some meaningful charts. \n",
    "\n",
    "# Create a bar chart that shows the Women in STEM numbers for 2017 for all countries in the dataset:\n",
    "fig = px.bar(gender_stats, x=\"Country Name\", y=\"2017 [YR2017]\", title=\"Women in STEM 2017\")\n",
    "fig.show()\n"
   ]
  },
  {
   "cell_type": "code",
   "execution_count": null,
   "id": "abb4848b-5993-4c23-ab73-fefb6ebf567d",
   "metadata": {},
   "outputs": [],
   "source": [
    "# Let's zoom in on a single country:\n",
    "country = \"Netherlands\"  # Change this to the country you want to plot\n",
    "\n",
    "# Filter the DataFrame for the specific country\n",
    "df_filtered = gender_stats[gender_stats[\"Country Name\"] == country]\n",
    "\n",
    "# Melt the DataFrame to convert wide format to long format\n",
    "df_long = df_filtered.melt(\n",
    "    id_vars=[\"Country Name\"], \n",
    "    value_vars=[col for col in gender_stats.columns if \"YR\" in col], \n",
    "    var_name=\"Year\", \n",
    "    value_name=\"Value\"\n",
    ")\n",
    "\n",
    "# Clean the 'Year' column (extract just the year number)\n",
    "df_long[\"Year\"] = df_long[\"Year\"].str.extract(r\"(\\d{4})\").astype(int)\n",
    "\n",
    "fig = px.bar(df_long, x=\"Year\", y=\"Value\", title=f\"Trends for {country}\")\n",
    "fig.show()"
   ]
  },
  {
   "cell_type": "markdown",
   "id": "bac62bf4-4e39-44d4-b583-c68103dc720d",
   "metadata": {},
   "source": [
    "# Exercises for the Kaggle dataset"
   ]
  },
  {
   "cell_type": "markdown",
   "id": "14e0a8c6",
   "metadata": {},
   "source": [
    "### 🧠 Exercise 1: Line Plot of Female Enrollment Over Time\n",
    "\n",
    "Create a line plot using Plotly to show how **Female Enrollment (%)** has changed over the years for a specific country (e.g., 'Canada')."
   ]
  },
  {
   "cell_type": "code",
   "execution_count": null,
   "id": "541f06e4",
   "metadata": {},
   "outputs": [],
   "source": [
    "# ✅ Solution\n",
    "import plotly.express as px\n",
    "df = kaggle_data\n",
    "df_canada = df[df['Country'] == 'Canada']\n",
    "\n",
    "canada_agg = (\n",
    "    df_canada\n",
    "    .groupby([\"STEM Fields\", \"Year\"], as_index=False)\n",
    "    .agg({\"Female Enrollment (%)\": \"mean\"})\n",
    ")\n",
    "fig = px.line(canada_agg, x='Year', y='Female Enrollment (%)', color=\"STEM Fields\", markers=True, title='Female Enrollment Over Time in Canada')\n",
    "\n",
    "fig.show()"
   ]
  },
  {
   "cell_type": "markdown",
   "id": "559a462e",
   "metadata": {},
   "source": [
    "### 🧠 Exercise 2: Compare STEM Fields Enrollment\n",
    "\n",
    "Create a bar chart comparing the number of **STEM Fields** across different countries for the most recent year in the dataset."
   ]
  },
  {
   "cell_type": "code",
   "execution_count": null,
   "id": "88736698",
   "metadata": {},
   "outputs": [],
   "source": [
    "# ✅ Solution\n",
    "df = kaggle_data\n",
    "latest_year = df['Year'].max()\n",
    "df_latest = df[df['Year'] == latest_year]\n",
    "\n",
    "df_agg = (\n",
    "    df_latest\n",
    "    .groupby([\"Country\", \"Year\", \"STEM Fields\"], as_index=False)\n",
    "    .agg({\"Female Enrollment (%)\": \"mean\"})\n",
    "    )\n",
    "fig = px.bar(\n",
    "    df_agg,\n",
    "    x=\"Country\",\n",
    "    y=\"Female Enrollment (%)\",\n",
    "    color=\"STEM Fields\",\n",
    "    barmode=\"group\",\n",
    "    title=f\"Female Enrollment (%) per STEM Field by Country ({latest_year})\",\n",
    "    text=\"Female Enrollment (%)\"\n",
    ")\n",
    "\n",
    "fig.show()"
   ]
  },
  {
   "cell_type": "markdown",
   "id": "69d44fc6",
   "metadata": {},
   "source": [
    "### 🧠 Exercise 3: Explore Relationship Between Enrollment and Graduation\n",
    "\n",
    "Create a scatter plot to explore the relationship between **Female Enrollment (%)** and **Female Graduation Rate (%)** for **Biology** across all countries for a given year."
   ]
  },
  {
   "cell_type": "code",
   "execution_count": null,
   "id": "e7ec8321",
   "metadata": {},
   "outputs": [],
   "source": [
    "# ✅ Solution\n",
    "selected_year = 2020  # change this if needed\n",
    "df_year = df[df['Year'] == selected_year]\n",
    "biology = df_year[df_year['STEM Fields'] == 'Biology']\n",
    "\n",
    "biology_agg = (\n",
    "    biology.groupby(\"Country\", as_index=False)[\n",
    "        [\"Female Enrollment (%)\", \"Female Graduation Rate (%)\"]\n",
    "    ].mean()\n",
    ")\n",
    "\n",
    "\n",
    "fig = px.scatter(biology_agg, x='Female Enrollment (%)', y='Female Graduation Rate (%)', color='Country',\n",
    "                 title=f'Enrollment vs Graduation Rate ({selected_year})')\n",
    "fig.show()"
   ]
  },
  {
   "cell_type": "markdown",
   "id": "344940c9",
   "metadata": {},
   "source": [
    "### 🌟 Bonus Challenge: Your Own Plot\n",
    "\n",
    "Choose any two variables from the dataset and create your own custom visualization using Plotly.\n",
    "\n",
    "You can use bar, line, scatter, pie, or any other type of plot!"
   ]
  },
  {
   "cell_type": "code",
   "execution_count": null,
   "id": "c6e48deb",
   "metadata": {},
   "outputs": [],
   "source": [
    "# ✅ Example (customize this!)\n",
    "# fig = px.scatter(df, x='Female Enrollment (%)', y='STEM Fields', color='Country')\n",
    "# fig.show()"
   ]
  }
 ],
 "metadata": {
  "kernelspec": {
   "display_name": "Python 3 (ipykernel)",
   "language": "python",
   "name": "python3"
  },
  "language_info": {
   "codemirror_mode": {
    "name": "ipython",
    "version": 3
   },
   "file_extension": ".py",
   "mimetype": "text/x-python",
   "name": "python",
   "nbconvert_exporter": "python",
   "pygments_lexer": "ipython3",
   "version": "3.12.9"
  }
 },
 "nbformat": 4,
 "nbformat_minor": 5
}
