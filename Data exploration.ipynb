{
 "cells": [
  {
   "cell_type": "code",
   "execution_count": null,
   "id": "dd938648-e390-4118-9d30-f86992de1f59",
   "metadata": {},
   "outputs": [],
   "source": [
    "import polars as pl\n",
    "import pandas as pd"
   ]
  },
  {
   "cell_type": "code",
   "execution_count": null,
   "id": "2813cc43-4a1c-43da-bc3b-b53e2613bd6d",
   "metadata": {},
   "outputs": [],
   "source": [
    "gender_stats = pl.read_csv(\"/Users/mereltheisen/Downloads/P_Data_Extract_From_Gender_Statistics/065bc21d-9ad2-4004-b442-31f67904e33b_Data.csv\")"
   ]
  },
  {
   "cell_type": "code",
   "execution_count": null,
   "id": "95d01e89-1bce-4f98-b640-689acb005fc0",
   "metadata": {},
   "outputs": [],
   "source": [
    "gender_stats.head()"
   ]
  },
  {
   "cell_type": "code",
   "execution_count": null,
   "id": "b2117539-d563-4015-89e6-76d9f0795f0e",
   "metadata": {},
   "outputs": [],
   "source": [
    "print(gender_stats)"
   ]
  },
  {
   "cell_type": "code",
   "execution_count": null,
   "id": "f3ff5111-a4dd-492d-80a9-9482c2744a04",
   "metadata": {},
   "outputs": [],
   "source": [
    "gender_stats.rows"
   ]
  },
  {
   "cell_type": "code",
   "execution_count": null,
   "id": "d46e722e-58aa-4b08-8a26-ac3aef20e9bf",
   "metadata": {},
   "outputs": [],
   "source": [
    "selected_gender_stats = gender_stats.select(pl.col(\"Country Name\"), pl.col(\"2023 [YR2023]\"), pl.col(\"2022 [YR2022]\"))\n",
    "selected_gender_stats.head(10)"
   ]
  },
  {
   "cell_type": "code",
   "execution_count": null,
   "id": "a6a6a5f0-1f1f-4af4-a32a-8e32e01b91ca",
   "metadata": {},
   "outputs": [],
   "source": [
    "cleaned_gender_stats = gender_stats.with_columns([\n",
    "    pl.col(pl.Utf8).replace(\"..\", None)  # Replace \"..\" with None in string columns\n",
    "])\n",
    "cleaned_gender_stats.head(10)"
   ]
  },
  {
   "cell_type": "code",
   "execution_count": null,
   "id": "ecdec888-c3a4-439c-9319-61cfa7c37b0f",
   "metadata": {},
   "outputs": [],
   "source": [
    "gender_stats_NL = cleaned_gender_stats.filter(pl.col(\"Country Name\") == \"Netherlands\")\n",
    "gender_stats_NL"
   ]
  },
  {
   "cell_type": "code",
   "execution_count": null,
   "id": "17f302b6-5f5b-4c68-ba32-0e1bd49973df",
   "metadata": {},
   "outputs": [],
   "source": [
    "gender_stats_pandas = pd.read_csv(\"/Users/mereltheisen/Downloads/P_Data_Extract_From_Gender_Statistics/065bc21d-9ad2-4004-b442-31f67904e33b_Data.csv\", na_values=[\"NA\", \"..\"])"
   ]
  },
  {
   "cell_type": "code",
   "execution_count": null,
   "id": "8a1eed12-c897-44af-b7d3-961634d6f80a",
   "metadata": {},
   "outputs": [],
   "source": [
    "import plotly.express as px\n",
    "\n",
    "# Create bar chart\n",
    "fig = px.bar(gender_stats_pandas, x=\"Country Name\", y=\"2017 [YR2017]\", title=\"Bar Chart from Polars DataFrame\")\n",
    "fig.show()\n"
   ]
  },
  {
   "cell_type": "code",
   "execution_count": null,
   "id": "b97e5e8b-4aa1-4f09-84a4-cd0882228dfc",
   "metadata": {},
   "outputs": [],
   "source": [
    "# Create bar chart\n",
    "nl_pandas = gender_stats_pandas[gender_stats_pandas[\"Country Name\"] == \"Netherlands\"]\n",
    "nl_pandas"
   ]
  },
  {
   "cell_type": "code",
   "execution_count": null,
   "id": "2af1f631-c98e-4f80-ac40-dff0bd56336d",
   "metadata": {},
   "outputs": [],
   "source": [
    "kaggle_data = pd.read_csv(\"/Users/mereltheisen/Downloads/women_in_stem.csv\")\n",
    "kaggle_data.head()"
   ]
  },
  {
   "cell_type": "code",
   "execution_count": null,
   "id": "9216db66-c4e2-45af-bf02-bc5e69a95be8",
   "metadata": {},
   "outputs": [],
   "source": [
    "import plotly.express as px\n",
    "\n",
    "# Create bar chart\n",
    "fig = px.bar(kaggle_data, x=\"Country\", y=\"Year\", title=\"Bar Chart from Polars DataFrame\")\n",
    "fig.show()\n"
   ]
  },
  {
   "cell_type": "code",
   "execution_count": null,
   "id": "a64bf465-0c03-45d5-938d-878df9ca2c22",
   "metadata": {},
   "outputs": [],
   "source": []
  }
 ],
 "metadata": {
  "kernelspec": {
   "display_name": "Python 3 (ipykernel)",
   "language": "python",
   "name": "python3"
  },
  "language_info": {
   "codemirror_mode": {
    "name": "ipython",
    "version": 3
   },
   "file_extension": ".py",
   "mimetype": "text/x-python",
   "name": "python",
   "nbconvert_exporter": "python",
   "pygments_lexer": "ipython3",
   "version": "3.12.9"
  }
 },
 "nbformat": 4,
 "nbformat_minor": 5
}
