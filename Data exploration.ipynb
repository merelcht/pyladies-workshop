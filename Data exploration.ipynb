{
 "cells": [
  {
   "cell_type": "code",
   "execution_count": null,
   "id": "dd938648-e390-4118-9d30-f86992de1f59",
   "metadata": {},
   "outputs": [],
   "source": [
    "import polars as pl\n",
    "import pandas as pd"
   ]
  },
  {
   "cell_type": "code",
   "execution_count": null,
   "id": "2813cc43-4a1c-43da-bc3b-b53e2613bd6d",
   "metadata": {},
   "outputs": [],
   "source": [
    "gender_stats = pl.read_csv(\"/Users/mereltheisen/Downloads/P_Data_Extract_From_Gender_Statistics/065bc21d-9ad2-4004-b442-31f67904e33b_Data.csv\")"
   ]
  },
  {
   "cell_type": "code",
   "execution_count": null,
   "id": "95d01e89-1bce-4f98-b640-689acb005fc0",
   "metadata": {},
   "outputs": [],
   "source": [
    "gender_stats.head()"
   ]
  },
  {
   "cell_type": "code",
   "execution_count": null,
   "id": "b2117539-d563-4015-89e6-76d9f0795f0e",
   "metadata": {},
   "outputs": [],
   "source": [
    "print(gender_stats)"
   ]
  },
  {
   "cell_type": "code",
   "execution_count": null,
   "id": "f3ff5111-a4dd-492d-80a9-9482c2744a04",
   "metadata": {},
   "outputs": [],
   "source": [
    "gender_stats.rows"
   ]
  },
  {
   "cell_type": "code",
   "execution_count": null,
   "id": "d46e722e-58aa-4b08-8a26-ac3aef20e9bf",
   "metadata": {},
   "outputs": [],
   "source": [
    "selected_gender_stats = gender_stats.select(pl.col(\"Country Name\"), pl.col(\"2023 [YR2023]\"), pl.col(\"2022 [YR2022]\"))\n",
    "selected_gender_stats.head(10)"
   ]
  },
  {
   "cell_type": "code",
   "execution_count": null,
   "id": "a6a6a5f0-1f1f-4af4-a32a-8e32e01b91ca",
   "metadata": {},
   "outputs": [],
   "source": [
    "cleaned_gender_stats = gender_stats.with_columns([\n",
    "    pl.col(pl.Utf8).replace(\"..\", None)  # Replace \"..\" with None in string columns\n",
    "])\n",
    "cleaned_gender_stats.head(10)"
   ]
  },
  {
   "cell_type": "code",
   "execution_count": null,
   "id": "ecdec888-c3a4-439c-9319-61cfa7c37b0f",
   "metadata": {},
   "outputs": [],
   "source": [
    "gender_stats_NL = cleaned_gender_stats.filter(pl.col(\"Country Name\") == \"Netherlands\")\n",
    "gender_stats_NL"
   ]
  },
  {
   "cell_type": "code",
   "execution_count": null,
   "id": "17f302b6-5f5b-4c68-ba32-0e1bd49973df",
   "metadata": {},
   "outputs": [],
   "source": [
    "gender_stats_pandas = pd.read_csv(\"/Users/mereltheisen/Downloads/P_Data_Extract_From_Gender_Statistics/065bc21d-9ad2-4004-b442-31f67904e33b_Data.csv\", na_values=[\"NA\", \"..\"])"
   ]
  },
  {
   "cell_type": "code",
   "execution_count": null,
   "id": "8a1eed12-c897-44af-b7d3-961634d6f80a",
   "metadata": {},
   "outputs": [],
   "source": [
    "import plotly.express as px\n",
    "\n",
    "# Create bar chart\n",
    "fig = px.bar(gender_stats_pandas, x=\"Country Name\", y=\"2017 [YR2017]\", title=\"Women in STEM 2017\")\n",
    "fig.show()\n"
   ]
  },
  {
   "cell_type": "code",
   "execution_count": null,
   "id": "abb4848b-5993-4c23-ab73-fefb6ebf567d",
   "metadata": {},
   "outputs": [],
   "source": [
    "# Assuming 'df' is your original DataFrame\n",
    "country = \"Netherlands\"  # Change this to the country you want to plot\n",
    "\n",
    "# Filter the DataFrame for the specific country\n",
    "df_filtered = gender_stats_pandas[gender_stats_pandas[\"Country Name\"] == country]\n",
    "\n",
    "# Melt the DataFrame to convert wide format to long format\n",
    "df_long = df_filtered.melt(\n",
    "    id_vars=[\"Country Name\"], \n",
    "    value_vars=[col for col in gender_stats_pandas.columns if \"YR\" in col], \n",
    "    var_name=\"Year\", \n",
    "    value_name=\"Value\"\n",
    ")\n",
    "\n",
    "# Clean the 'Year' column (extract just the year number)\n",
    "df_long[\"Year\"] = df_long[\"Year\"].str.extract(r\"(\\d{4})\").astype(int)\n",
    "\n",
    "fig = px.bar(df_long, x=\"Year\", y=\"Value\", title=f\"Trends for {country}\")\n",
    "fig.show()"
   ]
  },
  {
   "cell_type": "code",
   "execution_count": null,
   "id": "2af1f631-c98e-4f80-ac40-dff0bd56336d",
   "metadata": {},
   "outputs": [],
   "source": [
    "kaggle_data = pd.read_csv(\"/Users/mereltheisen/Downloads/women_in_stem.csv\")\n",
    "kaggle_data.head()"
   ]
  },
  {
   "cell_type": "code",
   "execution_count": null,
   "id": "73493768-801e-4a01-8ebf-3ea6f2424284",
   "metadata": {},
   "outputs": [],
   "source": [
    "china_data = kaggle_data[kaggle_data[\"Country\"] == \"China\"]\n",
    "china_engineering = china_data[china_data[\"STEM Fields\"] == \"Engineering\"]\n",
    "\n",
    "print(china_engineering[china_engineering[\"Year\"]==2017])"
   ]
  },
  {
   "cell_type": "code",
   "execution_count": null,
   "id": "848d6dfa-8d83-4e84-b58c-b7f58c7fd75a",
   "metadata": {},
   "outputs": [],
   "source": [
    "china_agg = (\n",
    "    kaggle_data[kaggle_data[\"Country\"] == \"China\"]\n",
    "    .groupby([\"STEM Fields\", \"Year\"], as_index=False)\n",
    "    .agg({\"Female Graduation Rate (%)\": \"mean\"})\n",
    ")"
   ]
  },
  {
   "cell_type": "code",
   "execution_count": null,
   "id": "a64bf465-0c03-45d5-938d-878df9ca2c22",
   "metadata": {},
   "outputs": [],
   "source": [
    "# Create the line chart\n",
    "fig = px.line(\n",
    "    china_agg,\n",
    "    x=\"Year\",\n",
    "    y=\"Female Graduation Rate (%)\",\n",
    "    color=\"STEM Fields\",\n",
    "    markers=True,\n",
    "    title=f\"Female Graduation Rate in STEM Fields Over Time ({country})\"\n",
    ")\n",
    "fig.show()"
   ]
  },
  {
   "cell_type": "code",
   "execution_count": null,
   "id": "c6e2e9a1-6795-48cb-a8cd-882c19cb38ad",
   "metadata": {},
   "outputs": [],
   "source": [
    "engineering = kaggle_data[kaggle_data[\"STEM Fields\"] == \"Engineering\"]\n",
    "engineering.head()"
   ]
  },
  {
   "cell_type": "code",
   "execution_count": null,
   "id": "2fdc2cab-ed2f-4580-be4c-81b4d5b9b488",
   "metadata": {},
   "outputs": [],
   "source": [
    "engineering_agg = (\n",
    "    engineering\n",
    "    .groupby([\"Country\", \"Year\"], as_index=False)\n",
    "    .agg({\"Female Graduation Rate (%)\": \"mean\"})\n",
    ")\n"
   ]
  },
  {
   "cell_type": "code",
   "execution_count": null,
   "id": "c7e9ff63-8cdc-419c-9c1f-052ef6a42abc",
   "metadata": {},
   "outputs": [],
   "source": [
    "import plotly.express as px\n",
    "\n",
    "fig = px.line(\n",
    "    engineering_agg,\n",
    "    x=\"Year\",\n",
    "    y=\"Female Graduation Rate (%)\",\n",
    "    color=\"Country\",\n",
    "    markers=True,\n",
    "    title=\"Female Graduation Rate in Engineering Over Time (Multiple Countries)\"\n",
    ")\n",
    "\n",
    "fig.update_layout(yaxis_title=\"Graduation Rate (%)\", xaxis_title=\"Year\")\n",
    "fig.show()\n"
   ]
  },
  {
   "cell_type": "code",
   "execution_count": null,
   "id": "174e3f34-6332-43ae-b2b3-4a55cdfb3873",
   "metadata": {},
   "outputs": [],
   "source": []
  }
 ],
 "metadata": {
  "kernelspec": {
   "display_name": "Python 3 (ipykernel)",
   "language": "python",
   "name": "python3"
  },
  "language_info": {
   "codemirror_mode": {
    "name": "ipython",
    "version": 3
   },
   "file_extension": ".py",
   "mimetype": "text/x-python",
   "name": "python",
   "nbconvert_exporter": "python",
   "pygments_lexer": "ipython3",
   "version": "3.12.9"
  }
 },
 "nbformat": 4,
 "nbformat_minor": 5
}
